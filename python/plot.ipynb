{
 "cells": [
  {
   "cell_type": "code",
   "execution_count": null,
   "metadata": {},
   "outputs": [],
   "source": [
    "import json\n",
    "import glob\n",
    "import re\n",
    "import pandas as pd\n",
    "from os import path\n",
    "from statistics import mean\n",
    "import seaborn as sns\n",
    "import matplotlib.pyplot as plt\n",
    "\n",
    "data_dir = '../out'"
   ]
  },
  {
   "cell_type": "code",
   "execution_count": null,
   "metadata": {},
   "outputs": [],
   "source": [
    "all_files = glob.glob(path.join(data_dir, \"gen_*.json\"))\n",
    "gen_pattern = 'gen_0*([0-9]*).json$'\n",
    "\n",
    "def extract_gen_number(filename):\n",
    "    return int(re.search(gen_pattern, filename).group(1))\n",
    "\n",
    "all_files.sort(key=extract_gen_number)"
   ]
  },
  {
   "cell_type": "code",
   "execution_count": null,
   "metadata": {},
   "outputs": [],
   "source": [
    "particle_dfs_list = []\n",
    "meta_dfs_list = []\n",
    "for filename in all_files:\n",
    "    gen_number = extract_gen_number(filename)\n",
    "    \n",
    "    with open(filename) as f:\n",
    "        data = json.load(f)\n",
    "    new_p_df = pd.json_normalize(data['pop'], record_path=['normalised_particles'])\n",
    "    new_p_df['generation'] = gen_number\n",
    "\n",
    "    meta = {\n",
    "        'generation': gen_number, \n",
    "        'tolerance': data['pop']['tolerance'], \n",
    "        'acceptance': data['pop']['acceptance']\n",
    "    }\n",
    "    new_m_df = pd.DataFrame(data=meta, index=[gen_number])\n",
    "\n",
    "    meta_dfs_list.append(new_m_df)\n",
    "    particle_dfs_list.append(new_p_df)\n",
    "\n",
    "particle_df = pd.concat(particle_dfs_list)\n",
    "particle_df = particle_df.reset_index()\n",
    "\n",
    "meta_df = pd.concat(meta_dfs_list)\n",
    "meta_df = meta_df.reset_index()\n",
    "meta_df = meta_df.drop('index', axis=1)\n",
    "print(meta_df)\n",
    "\n",
    "particle_df['mean_score'] = particle_df['scores'].map(mean)\n",
    "df = particle_df.drop('scores', axis=1)"
   ]
  },
  {
   "cell_type": "code",
   "execution_count": null,
   "metadata": {},
   "outputs": [],
   "source": [
    "# fig, ax = plt.subplots(figsize=(12,6))\n",
    "# score_max = max(particle_df['mean_score'])\n",
    "# ax.set_xlim(0, score_max)\n",
    "sns.barplot(\n",
    "    data=meta_df, \n",
    "    x='generation', \n",
    "    y='tolerance',\n",
    ").set(title='Tolerance')"
   ]
  },
  {
   "cell_type": "code",
   "execution_count": null,
   "metadata": {},
   "outputs": [],
   "source": [
    "sns.set_theme()\n",
    "fig, ax = plt.subplots(figsize=(12,6))\n",
    "ax.set_xlim(0, 1)\n",
    "\n",
    "sns.kdeplot(\n",
    "   data=particle_df, \n",
    "   x=\"parameters.heads\", \n",
    "   hue='generation',\n",
    "   fill=True, \n",
    "   palette=\"viridis_r\",\n",
    "   alpha=.1, \n",
    "   linewidth=1,\n",
    "   bw_adjust=.8, \n",
    "   cut=0, \n",
    ").set(title='Posterior Heads')\n",
    "sns.move_legend(ax, \"upper left\")"
   ]
  },
  {
   "cell_type": "code",
   "execution_count": null,
   "metadata": {},
   "outputs": [],
   "source": [
    "#sns.set_theme()\n",
    "fig, ax = plt.subplots(figsize=(12,6))\n",
    "score_max = max(particle_df['mean_score'])\n",
    "ax.set_xlim(0, score_max)\n",
    "sns.kdeplot(\n",
    "    data=particle_df, \n",
    "    x='mean_score', \n",
    "    hue='generation',\n",
    "    fill=True, \n",
    "    palette=\"rocket_r\",\n",
    "    alpha=.1, \n",
    "    linewidth=1,\n",
    "    bw_adjust=.8, \n",
    "    cut=0,\n",
    ").set(title='Mean Score Distribution')"
   ]
  }
 ],
 "metadata": {
  "interpreter": {
   "hash": "c18328dae54219f9379fe5ff138daf4112e23e021e5ca69ee107a55ac2c070c7"
  },
  "kernelspec": {
   "display_name": "Python 3.10.4 ('abcd')",
   "language": "python",
   "name": "python3"
  },
  "language_info": {
   "codemirror_mode": {
    "name": "ipython",
    "version": 3
   },
   "file_extension": ".py",
   "mimetype": "text/x-python",
   "name": "python",
   "nbconvert_exporter": "python",
   "pygments_lexer": "ipython3",
   "version": "3.10.4"
  },
  "orig_nbformat": 4
 },
 "nbformat": 4,
 "nbformat_minor": 2
}
